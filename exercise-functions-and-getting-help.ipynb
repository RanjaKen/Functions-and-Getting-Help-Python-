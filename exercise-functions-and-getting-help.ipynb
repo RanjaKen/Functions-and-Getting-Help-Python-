{
 "cells": [
  {
   "cell_type": "markdown",
   "id": "79fa9c80",
   "metadata": {
    "papermill": {
     "duration": 0.007734,
     "end_time": "2024-09-15T06:01:38.111775",
     "exception": false,
     "start_time": "2024-09-15T06:01:38.104041",
     "status": "completed"
    },
    "tags": []
   },
   "source": [
    "**This notebook is an exercise in the [Python](https://www.kaggle.com/learn/python) course.  You can reference the tutorial at [this link](https://www.kaggle.com/colinmorris/functions-and-getting-help).**\n",
    "\n",
    "---\n"
   ]
  },
  {
   "cell_type": "markdown",
   "id": "48877be9",
   "metadata": {
    "papermill": {
     "duration": 0.006286,
     "end_time": "2024-09-15T06:01:38.124980",
     "exception": false,
     "start_time": "2024-09-15T06:01:38.118694",
     "status": "completed"
    },
    "tags": []
   },
   "source": [
    "Functions are powerful. Try writing some yourself.\n",
    "\n",
    "As before, don't forget to run the setup code below before jumping into question 1."
   ]
  },
  {
   "cell_type": "code",
   "execution_count": 1,
   "id": "4736de20",
   "metadata": {
    "_kg_hide-input": true,
    "_kg_hide-output": true,
    "execution": {
     "iopub.execute_input": "2024-09-15T06:01:38.139946Z",
     "iopub.status.busy": "2024-09-15T06:01:38.139480Z",
     "iopub.status.idle": "2024-09-15T06:01:38.658145Z",
     "shell.execute_reply": "2024-09-15T06:01:38.656796Z"
    },
    "papermill": {
     "duration": 0.52975,
     "end_time": "2024-09-15T06:01:38.661232",
     "exception": false,
     "start_time": "2024-09-15T06:01:38.131482",
     "status": "completed"
    },
    "tags": []
   },
   "outputs": [
    {
     "name": "stdout",
     "output_type": "stream",
     "text": [
      "Setup complete.\n"
     ]
    }
   ],
   "source": [
    "# SETUP. You don't need to worry for now about what this code does or how it works.\n",
    "from learntools.core import binder; binder.bind(globals())\n",
    "from learntools.python.ex2 import *\n",
    "print('Setup complete.')"
   ]
  },
  {
   "cell_type": "markdown",
   "id": "2d9e15a3",
   "metadata": {
    "papermill": {
     "duration": 0.006394,
     "end_time": "2024-09-15T06:01:38.674389",
     "exception": false,
     "start_time": "2024-09-15T06:01:38.667995",
     "status": "completed"
    },
    "tags": []
   },
   "source": [
    "# 1.\n",
    "\n",
    "Complete the body of the following function according to its docstring.\n",
    "\n",
    "HINT: Python has a built-in function `round`."
   ]
  },
  {
   "cell_type": "code",
   "execution_count": 2,
   "id": "43b566db",
   "metadata": {
    "execution": {
     "iopub.execute_input": "2024-09-15T06:01:38.689613Z",
     "iopub.status.busy": "2024-09-15T06:01:38.688930Z",
     "iopub.status.idle": "2024-09-15T06:01:38.704344Z",
     "shell.execute_reply": "2024-09-15T06:01:38.703006Z"
    },
    "papermill": {
     "duration": 0.026224,
     "end_time": "2024-09-15T06:01:38.707154",
     "exception": false,
     "start_time": "2024-09-15T06:01:38.680930",
     "status": "completed"
    },
    "tags": []
   },
   "outputs": [
    {
     "data": {
      "application/javascript": [
       "parent.postMessage({\"jupyterEvent\": \"custom.exercise_interaction\", \"data\": {\"outcomeType\": 1, \"valueTowardsCompletion\": 0.16666666666666666, \"interactionType\": 1, \"questionType\": 2, \"questionId\": \"1_RoundFunctionProblem\", \"learnToolsVersion\": \"0.3.4\", \"failureMessage\": \"\", \"exceptionClass\": \"\", \"trace\": \"\"}}, \"*\")"
      ],
      "text/plain": [
       "<IPython.core.display.Javascript object>"
      ]
     },
     "metadata": {},
     "output_type": "display_data"
    },
    {
     "data": {
      "text/markdown": [
       "<span style=\"color:#33cc33\">Correct</span>"
      ],
      "text/plain": [
       "Correct"
      ]
     },
     "metadata": {},
     "output_type": "display_data"
    }
   ],
   "source": [
    "def round_to_two_places(num):\n",
    "    \"\"\"Return the given number rounded to two decimal places. \n",
    "    \n",
    "    >>> round_to_two_places(3.14159)\n",
    "    3.14\n",
    "    \"\"\"\n",
    "    # Replace this body with your own code.\n",
    "    # (\"pass\" is a keyword that does literally nothing. We used it as a placeholder\n",
    "    # because after we begin a code block, Python requires at least one line of code)\n",
    "    pass\n",
    "    return round(num, 2)\n",
    "\n",
    "# Check your answer\n",
    "q1.check()"
   ]
  },
  {
   "cell_type": "code",
   "execution_count": 3,
   "id": "7f422c95",
   "metadata": {
    "execution": {
     "iopub.execute_input": "2024-09-15T06:01:38.723334Z",
     "iopub.status.busy": "2024-09-15T06:01:38.722856Z",
     "iopub.status.idle": "2024-09-15T06:01:38.728196Z",
     "shell.execute_reply": "2024-09-15T06:01:38.726877Z"
    },
    "papermill": {
     "duration": 0.016546,
     "end_time": "2024-09-15T06:01:38.730800",
     "exception": false,
     "start_time": "2024-09-15T06:01:38.714254",
     "status": "completed"
    },
    "tags": []
   },
   "outputs": [],
   "source": [
    "# Uncomment the following for a hint\n",
    "#q1.hint()\n",
    "# Or uncomment the following to peek at the solution\n",
    "#q1.solution()"
   ]
  },
  {
   "cell_type": "markdown",
   "id": "86844481",
   "metadata": {
    "papermill": {
     "duration": 0.00705,
     "end_time": "2024-09-15T06:01:38.744891",
     "exception": false,
     "start_time": "2024-09-15T06:01:38.737841",
     "status": "completed"
    },
    "tags": []
   },
   "source": [
    "# 2.\n",
    "The help for `round` says that `ndigits` (the second argument) may be negative.\n",
    "What do you think will happen when it is? Try some examples in the following cell."
   ]
  },
  {
   "cell_type": "code",
   "execution_count": 4,
   "id": "bdda3c6f",
   "metadata": {
    "execution": {
     "iopub.execute_input": "2024-09-15T06:01:38.761658Z",
     "iopub.status.busy": "2024-09-15T06:01:38.760382Z",
     "iopub.status.idle": "2024-09-15T06:01:38.768468Z",
     "shell.execute_reply": "2024-09-15T06:01:38.767267Z"
    },
    "papermill": {
     "duration": 0.019268,
     "end_time": "2024-09-15T06:01:38.771100",
     "exception": false,
     "start_time": "2024-09-15T06:01:38.751832",
     "status": "completed"
    },
    "tags": []
   },
   "outputs": [
    {
     "data": {
      "text/plain": [
       "330.0"
      ]
     },
     "execution_count": 4,
     "metadata": {},
     "output_type": "execute_result"
    }
   ],
   "source": [
    "# Put your test code here\n",
    "round(333.55, -1)"
   ]
  },
  {
   "cell_type": "markdown",
   "id": "647685a9",
   "metadata": {
    "papermill": {
     "duration": 0.006787,
     "end_time": "2024-09-15T06:01:38.785114",
     "exception": false,
     "start_time": "2024-09-15T06:01:38.778327",
     "status": "completed"
    },
    "tags": []
   },
   "source": [
    "Can you think of a case where this would be useful?  Once you're ready, run the code cell below to see the answer and to receive credit for completing the problem."
   ]
  },
  {
   "cell_type": "code",
   "execution_count": 5,
   "id": "81351580",
   "metadata": {
    "execution": {
     "iopub.execute_input": "2024-09-15T06:01:38.801524Z",
     "iopub.status.busy": "2024-09-15T06:01:38.801058Z",
     "iopub.status.idle": "2024-09-15T06:01:38.810822Z",
     "shell.execute_reply": "2024-09-15T06:01:38.809652Z"
    },
    "papermill": {
     "duration": 0.02074,
     "end_time": "2024-09-15T06:01:38.813227",
     "exception": false,
     "start_time": "2024-09-15T06:01:38.792487",
     "status": "completed"
    },
    "tags": []
   },
   "outputs": [
    {
     "data": {
      "application/javascript": [
       "parent.postMessage({\"jupyterEvent\": \"custom.exercise_interaction\", \"data\": {\"interactionType\": 3, \"questionType\": 4, \"questionId\": \"2_RoundNdigitsProblem\", \"learnToolsVersion\": \"0.3.4\", \"valueTowardsCompletion\": 0.0, \"failureMessage\": \"\", \"exceptionClass\": \"\", \"trace\": \"\", \"outcomeType\": 4}}, \"*\")"
      ],
      "text/plain": [
       "<IPython.core.display.Javascript object>"
      ]
     },
     "metadata": {},
     "output_type": "display_data"
    },
    {
     "data": {
      "text/markdown": [
       "<span style=\"color:#33cc99\">Solution:</span> As you've seen, `ndigits=-1` rounds to the nearest 10, `ndigits=-2` rounds to the nearest 100 and so on. Where might this be useful? Suppose we're dealing with large numbers:\n",
       "\n",
       "> The area of Finland is 338,424 km²  \n",
       "> The area of Greenland is 2,166,086 km²\n",
       "\n",
       "We probably don't care whether it's really 338,424, or 338,425, or 338,177. All those digits of accuracy are just distracting. We can chop them off by calling `round()` with `ndigits=-3`:\n",
       "\n",
       "> The area of Finland is 338,000 km²  \n",
       "> The area of Greenland is 2,166,000 km²\n",
       "\n",
       "(We'll talk about how we would get the commas later when we talk about string formatting :))\n"
      ],
      "text/plain": [
       "Solution: As you've seen, `ndigits=-1` rounds to the nearest 10, `ndigits=-2` rounds to the nearest 100 and so on. Where might this be useful? Suppose we're dealing with large numbers:\n",
       "\n",
       "> The area of Finland is 338,424 km²  \n",
       "> The area of Greenland is 2,166,086 km²\n",
       "\n",
       "We probably don't care whether it's really 338,424, or 338,425, or 338,177. All those digits of accuracy are just distracting. We can chop them off by calling `round()` with `ndigits=-3`:\n",
       "\n",
       "> The area of Finland is 338,000 km²  \n",
       "> The area of Greenland is 2,166,000 km²\n",
       "\n",
       "(We'll talk about how we would get the commas later when we talk about string formatting :))"
      ]
     },
     "metadata": {},
     "output_type": "display_data"
    }
   ],
   "source": [
    "# Check your answer (Run this code cell to receive credit!)\n",
    "q2.solution()"
   ]
  },
  {
   "cell_type": "markdown",
   "id": "d5c9891f",
   "metadata": {
    "papermill": {
     "duration": 0.009024,
     "end_time": "2024-09-15T06:01:38.830418",
     "exception": false,
     "start_time": "2024-09-15T06:01:38.821394",
     "status": "completed"
    },
    "tags": []
   },
   "source": [
    "# 3.\n",
    "\n",
    "In the previous exercise, the candy-sharing friends Alice, Bob and Carol tried to split candies evenly. For the sake of their friendship, any candies left over would be smashed. For example, if they collectively bring home 91 candies, they'll take 30 each and smash 1.\n",
    "\n",
    "Below is a simple function that will calculate the number of candies to smash for *any* number of total candies.\n",
    "\n",
    "Modify it so that it optionally takes a second argument representing the number of friends the candies are being split between. If no second argument is provided, it should assume 3 friends, as before.\n",
    "\n",
    "Update the docstring to reflect this new behaviour."
   ]
  },
  {
   "cell_type": "code",
   "execution_count": 6,
   "id": "7b100191",
   "metadata": {
    "execution": {
     "iopub.execute_input": "2024-09-15T06:01:38.848257Z",
     "iopub.status.busy": "2024-09-15T06:01:38.847803Z",
     "iopub.status.idle": "2024-09-15T06:01:38.858706Z",
     "shell.execute_reply": "2024-09-15T06:01:38.857484Z"
    },
    "papermill": {
     "duration": 0.022961,
     "end_time": "2024-09-15T06:01:38.861427",
     "exception": false,
     "start_time": "2024-09-15T06:01:38.838466",
     "status": "completed"
    },
    "tags": []
   },
   "outputs": [
    {
     "data": {
      "application/javascript": [
       "parent.postMessage({\"jupyterEvent\": \"custom.exercise_interaction\", \"data\": {\"outcomeType\": 1, \"valueTowardsCompletion\": 0.16666666666666666, \"interactionType\": 1, \"questionType\": 2, \"questionId\": \"3_CandySmashingFunctionProblem\", \"learnToolsVersion\": \"0.3.4\", \"failureMessage\": \"\", \"exceptionClass\": \"\", \"trace\": \"\"}}, \"*\")"
      ],
      "text/plain": [
       "<IPython.core.display.Javascript object>"
      ]
     },
     "metadata": {},
     "output_type": "display_data"
    },
    {
     "data": {
      "text/markdown": [
       "<span style=\"color:#33cc33\">Correct</span>"
      ],
      "text/plain": [
       "Correct"
      ]
     },
     "metadata": {},
     "output_type": "display_data"
    }
   ],
   "source": [
    "def to_smash(total_candies, friends = 3):\n",
    "    \"\"\"Return the number of leftover candies that must be smashed after distributing\n",
    "    the given number of candies evenly between 3 friends.\n",
    "    \n",
    "    >>> to_smash(91)\n",
    "    1\n",
    "    \"\"\"\n",
    "    return total_candies % friends\n",
    "\n",
    "# Check your answer\n",
    "q3.check()"
   ]
  },
  {
   "cell_type": "code",
   "execution_count": 7,
   "id": "19e4bb53",
   "metadata": {
    "execution": {
     "iopub.execute_input": "2024-09-15T06:01:38.880737Z",
     "iopub.status.busy": "2024-09-15T06:01:38.880291Z",
     "iopub.status.idle": "2024-09-15T06:01:38.885469Z",
     "shell.execute_reply": "2024-09-15T06:01:38.884218Z"
    },
    "papermill": {
     "duration": 0.017949,
     "end_time": "2024-09-15T06:01:38.888278",
     "exception": false,
     "start_time": "2024-09-15T06:01:38.870329",
     "status": "completed"
    },
    "tags": []
   },
   "outputs": [],
   "source": [
    "#q3.hint()"
   ]
  },
  {
   "cell_type": "code",
   "execution_count": 8,
   "id": "54dbf0b9",
   "metadata": {
    "execution": {
     "iopub.execute_input": "2024-09-15T06:01:38.906416Z",
     "iopub.status.busy": "2024-09-15T06:01:38.905447Z",
     "iopub.status.idle": "2024-09-15T06:01:38.911050Z",
     "shell.execute_reply": "2024-09-15T06:01:38.909543Z"
    },
    "papermill": {
     "duration": 0.017691,
     "end_time": "2024-09-15T06:01:38.913824",
     "exception": false,
     "start_time": "2024-09-15T06:01:38.896133",
     "status": "completed"
    },
    "tags": []
   },
   "outputs": [],
   "source": [
    "#q3.solution()"
   ]
  },
  {
   "cell_type": "markdown",
   "id": "aa27f79b",
   "metadata": {
    "papermill": {
     "duration": 0.007706,
     "end_time": "2024-09-15T06:01:38.929624",
     "exception": false,
     "start_time": "2024-09-15T06:01:38.921918",
     "status": "completed"
    },
    "tags": []
   },
   "source": [
    "# 4. (Optional)\n",
    "\n",
    "It may not be fun, but reading and understanding error messages will be an important part of your Python career.\n",
    "\n",
    "Each code cell below contains some commented buggy code. For each cell...\n",
    "\n",
    "1. Read the code and predict what you think will happen when it's run.\n",
    "2. Then uncomment the code and run it to see what happens. (**Tip**: In the kernel editor, you can highlight several lines and press `ctrl`+`/` to toggle commenting.)\n",
    "3. Fix the code (so that it accomplishes its intended purpose without throwing an exception)\n",
    "\n",
    "<!-- TODO: should this be autochecked? Delta is probably pretty small. -->"
   ]
  },
  {
   "cell_type": "code",
   "execution_count": 9,
   "id": "d8ab15fd",
   "metadata": {
    "execution": {
     "iopub.execute_input": "2024-09-15T06:01:38.947074Z",
     "iopub.status.busy": "2024-09-15T06:01:38.946652Z",
     "iopub.status.idle": "2024-09-15T06:01:38.953997Z",
     "shell.execute_reply": "2024-09-15T06:01:38.952862Z"
    },
    "papermill": {
     "duration": 0.018958,
     "end_time": "2024-09-15T06:01:38.956491",
     "exception": false,
     "start_time": "2024-09-15T06:01:38.937533",
     "status": "completed"
    },
    "tags": []
   },
   "outputs": [
    {
     "data": {
      "text/plain": [
       "10.0"
      ]
     },
     "execution_count": 9,
     "metadata": {},
     "output_type": "execute_result"
    }
   ],
   "source": [
    " round_to_two_places(9.9999)"
   ]
  },
  {
   "cell_type": "code",
   "execution_count": 10,
   "id": "eb0bd591",
   "metadata": {
    "execution": {
     "iopub.execute_input": "2024-09-15T06:01:38.975188Z",
     "iopub.status.busy": "2024-09-15T06:01:38.974742Z",
     "iopub.status.idle": "2024-09-15T06:01:38.980907Z",
     "shell.execute_reply": "2024-09-15T06:01:38.979653Z"
    },
    "papermill": {
     "duration": 0.019241,
     "end_time": "2024-09-15T06:01:38.983752",
     "exception": false,
     "start_time": "2024-09-15T06:01:38.964511",
     "status": "completed"
    },
    "tags": []
   },
   "outputs": [],
   "source": [
    " x = -10\n",
    " y = 5\n",
    "# Which of the two variables above has the smallest absolute value?\n",
    " smallest_abs = min(abs(x),abs(y))"
   ]
  },
  {
   "cell_type": "code",
   "execution_count": 11,
   "id": "7a07fddf",
   "metadata": {
    "execution": {
     "iopub.execute_input": "2024-09-15T06:01:39.002935Z",
     "iopub.status.busy": "2024-09-15T06:01:39.001524Z",
     "iopub.status.idle": "2024-09-15T06:01:39.008384Z",
     "shell.execute_reply": "2024-09-15T06:01:39.007053Z"
    },
    "papermill": {
     "duration": 0.019206,
     "end_time": "2024-09-15T06:01:39.011096",
     "exception": false,
     "start_time": "2024-09-15T06:01:38.991890",
     "status": "completed"
    },
    "tags": []
   },
   "outputs": [
    {
     "name": "stdout",
     "output_type": "stream",
     "text": [
      "5\n"
     ]
    }
   ],
   "source": [
    " def f(x):\n",
    "     y = abs(x)\n",
    "     return y\n",
    "\n",
    " print(f(5))"
   ]
  },
  {
   "cell_type": "markdown",
   "id": "694a26f6",
   "metadata": {
    "papermill": {
     "duration": 0.007704,
     "end_time": "2024-09-15T06:01:39.026941",
     "exception": false,
     "start_time": "2024-09-15T06:01:39.019237",
     "status": "completed"
    },
    "tags": []
   },
   "source": [
    "# Keep Going\n",
    "\n",
    "Nice job with the code. Next up, you'll learn about *conditionals*, which you'll need to **[write interesting programs](https://www.kaggle.com/colinmorris/booleans-and-conditionals)**. "
   ]
  },
  {
   "cell_type": "markdown",
   "id": "0993ac27",
   "metadata": {
    "papermill": {
     "duration": 0.008367,
     "end_time": "2024-09-15T06:01:39.044365",
     "exception": false,
     "start_time": "2024-09-15T06:01:39.035998",
     "status": "completed"
    },
    "tags": []
   },
   "source": [
    "---\n",
    "\n",
    "\n",
    "\n",
    "\n",
    "*Have questions or comments? Visit the [course discussion forum](https://www.kaggle.com/learn/python/discussion) to chat with other learners.*"
   ]
  }
 ],
 "metadata": {
  "kaggle": {
   "accelerator": "none",
   "dataSources": [],
   "isGpuEnabled": false,
   "isInternetEnabled": false,
   "language": "python",
   "sourceType": "notebook"
  },
  "kernelspec": {
   "display_name": "Python 3",
   "language": "python",
   "name": "python3"
  },
  "language_info": {
   "codemirror_mode": {
    "name": "ipython",
    "version": 3
   },
   "file_extension": ".py",
   "mimetype": "text/x-python",
   "name": "python",
   "nbconvert_exporter": "python",
   "pygments_lexer": "ipython3",
   "version": "3.10.14"
  },
  "learntools_metadata": {
   "lesson_index": 1,
   "type": "exercise"
  },
  "papermill": {
   "default_parameters": {},
   "duration": 4.629569,
   "end_time": "2024-09-15T06:01:39.575637",
   "environment_variables": {},
   "exception": null,
   "input_path": "__notebook__.ipynb",
   "output_path": "__notebook__.ipynb",
   "parameters": {},
   "start_time": "2024-09-15T06:01:34.946068",
   "version": "2.6.0"
  }
 },
 "nbformat": 4,
 "nbformat_minor": 5
}
